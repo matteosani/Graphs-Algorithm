{
 "cells": [
  {
   "cell_type": "markdown",
   "id": "introductory-bahamas",
   "metadata": {},
   "source": [
    " # Graphs algorithm\n",
    "## Load the data"
   ]
  },
  {
   "cell_type": "code",
   "execution_count": 1,
   "id": "designing-gasoline",
   "metadata": {
    "run_control": {
     "marked": true
    }
   },
   "outputs": [
    {
     "name": "stdout",
     "output_type": "stream",
     "text": [
      "Number of sequences  83217\n"
     ]
    }
   ],
   "source": [
    "# Import necessary modules\n",
    "import json,glob,random,time,re,networkx as nx\n",
    "import matplotlib as mpl, matplotlib.pyplot as plt\n",
    "from pythonds.basic.stack import Stack\n",
    "from pythonds.basic import Queue\n",
    "from itertools import combinations, product, filterfalse\n",
    "\n",
    "d = {}\n",
    "pattern = \"C:/.../directory/*.json\"  # with *.json we want to take all the files in json format\n",
    "for files in glob.iglob(pattern):\n",
    "    with open(files, \"r\") as f:\n",
    "        data = json.load(f)\n",
    "        d[data[\"query\"][3:]] = data['results'][0]\n",
    "\n",
    "''' Each query is in the form 'id:Axxxxxx', so with the slicing operation i want to extract only\n",
    "the Axxxxxx part '''\n",
    "        \n",
    "# Define a funcion so that given a key it returns a list of all the references founded\n",
    "\n",
    "def getref(key, d):\n",
    "    lst = [] \n",
    "    if 'xref' in d.get(key): # check if the \"xref\" key is in the dict\n",
    "        xr = d.get(key)['xref'] # list of strings \n",
    "        pattern = 'A'+'[0-9]'*6  # structure of the sequnces ID\n",
    "        for string in xr:\n",
    "            sequences = re.findall(pattern,string) # list of sequences\n",
    "            lst.extend(sequences) \n",
    "    return lst\n",
    "\n",
    "print(\"Number of sequences \", len(d))"
   ]
  },
  {
   "cell_type": "markdown",
   "id": "acute-ireland",
   "metadata": {},
   "source": [
    "## Construct the Graph: \n",
    " - **According to Wikipedia my problem can be studied both on directed and undirected graph , so i choose to build a directed graph**"
   ]
  },
  {
   "cell_type": "code",
   "execution_count": 2,
   "id": "immune-display",
   "metadata": {
    "run_control": {
     "marked": true
    },
    "scrolled": true
   },
   "outputs": [
    {
     "name": "stdout",
     "output_type": "stream",
     "text": [
      "Vertices with no refs  5237\n",
      "Number of vertices  83221\n",
      "Number of edges  483854\n"
     ]
    }
   ],
   "source": [
    "# create the graph by iterating on the keys of d   \n",
    "def create_graph(d):\n",
    "    G = nx.DiGraph()\n",
    "    c = 0 \n",
    "    for key in d:\n",
    "        G.add_node(key)\n",
    "        ref = getref(key,d) # obtain list of the references to other sequences\n",
    "        if ref == []:\n",
    "            c+=1\n",
    "        else:\n",
    "            G.add_edges_from([(key,nbr) for nbr in ref])\n",
    "        d[key] = ref  \n",
    "    nx.set_node_attributes(G,\"white\",\"visit\")\n",
    "    print(\"Vertices with no refs \", c) # number of vertices with no refs \n",
    "    return G\n",
    "\n",
    "\"\"\"If we print the number of nodes we notice that there are 83221 nodes, but in our dataset\n",
    "there are only 83217 json files. This maybe follow the fact that there are some sequences that\n",
    "refers to others that are not in our dataset (in OEIS there are 341962 sequences!), \n",
    "and when we add an edge between 2 vertices, if the vertex is not in the dictionary, Python\n",
    "automatically create it.\"\"\"\n",
    "\n",
    "G = create_graph(d)\n",
    "print(\"Number of vertices \", G.number_of_nodes())\n",
    "print(\"Number of edges \", G.number_of_edges())"
   ]
  },
  {
   "cell_type": "markdown",
   "id": "treated-reservation",
   "metadata": {},
   "source": [
    "## Algorithm l: Find a Minimal Feedback Vertex Set\n",
    "\n",
    "- what is a Feedback Vertex Set(FVS) --> https://en.wikipedia.org/wiki/Feedback_vertex_set\n",
    "\n",
    "-  A set S satisfying a property P (e.g. being a dominating set) is minimal if does not exists an element x in S such that S - {x} still satisfies the property.\n",
    "\n",
    "### Find a Feedback Vertex Set "
   ]
  },
  {
   "cell_type": "code",
   "execution_count": 3,
   "id": "confused-fellowship",
   "metadata": {
    "run_control": {
     "marked": false
    }
   },
   "outputs": [
    {
     "name": "stdout",
     "output_type": "stream",
     "text": [
      "is DAG?  False\n",
      "Total number of nodes in G is  83221\n",
      "Length of the FVS is  43161\n",
      "Runtime of the program is 11.404681205749512\n"
     ]
    }
   ],
   "source": [
    "start = time.time()\n",
    "print(\"is DAG? \", nx.is_directed_acyclic_graph(G)) # expected: FALSE\n",
    "print(\"Total number of nodes in G is \", G.number_of_nodes())\n",
    "\n",
    "def fvs(C,nlist):\n",
    "    vset = set()\n",
    "    for vertex in nlist:\n",
    "        if C.nodes[vertex][\"visit\"] == 'white':\n",
    "            vset.update(dfsCycle(C,vertex))\n",
    "            \n",
    "    return vset \n",
    "\n",
    "def dfsCycle(C,startvertex,v = set()):  # iterative version of DFS\n",
    "    s = Stack()\n",
    "    s.push(startvertex)\n",
    "    while s.isEmpty() == False:\n",
    "        currvert = s.peek()\n",
    "        if C.nodes[currvert][\"visit\"] != \"grey\":\n",
    "            C.nodes[currvert][\"visit\"] = \"grey\" \n",
    "            for node in set(C.successors(currvert)): \n",
    "                if C.nodes[node][\"visit\"] == \"white\":\n",
    "                     C.nodes[node][\"pred\"] = currvert # currvert is the father of n\n",
    "                     s.push(node)\n",
    "                elif C.nodes[node][\"visit\"] == \"grey\":\n",
    "                    v.add(node)\n",
    "        else:\n",
    "            s.pop()\n",
    "            C.nodes[currvert][\"visit\"] = \"black\"\n",
    "    return v\n",
    "\n",
    "\n",
    "G_C = G.copy()\n",
    "feed_vset = fvs(G, set(G.nodes))\n",
    "end = time.time()\n",
    "print(\"Length of the FVS is \", len(feed_vset))\n",
    "print(f\"Runtime of the program is {end - start}\")\n"
   ]
  },
  {
   "cell_type": "markdown",
   "id": "royal-recall",
   "metadata": {},
   "source": [
    "### Find a Minimal Solution"
   ]
  },
  {
   "cell_type": "code",
   "execution_count": 4,
   "id": "reserved-instrument",
   "metadata": {
    "run_control": {
     "marked": false
    }
   },
   "outputs": [
    {
     "name": "stdout",
     "output_type": "stream",
     "text": [
      "After removing FVS, is DAG?  True\n",
      "Number of nodes in the modified graph  40060\n",
      "Length of the MFVS is  36062\n",
      "After removing MFVS, is still a DAG?  True\n"
     ]
    }
   ],
   "source": [
    "\"\"\"In FVS there are more vertices than necessary for deleting cyclces in the graph. This is because\n",
    "there are some vertices whose removal could delete more than one cycle; this fact is NOT captured\n",
    "in my algorithm, which it's only able to delete at least one vertex for each cycle in the graph.\n",
    "What i want to do here is find an MFVS (Minimal Feedback Vertex Set), i.e. a set in which\n",
    "there isn't any element that could be removed and still have a FVS\"\"\"\n",
    "\n",
    "def mfvs(C,H,fvs):\n",
    "    \n",
    "    min_fvs = fvs.copy() # create a copy of the FVS\n",
    "    C.remove_nodes_from(fvs) # remove all the nodes in the FVS , so now the graph is acyclic. \n",
    "    # Now G is G\\FVS\n",
    "    print(\"After removing FVS, is DAG? \", nx.is_directed_acyclic_graph(C)) # expected: TRUE\n",
    "    print(\"Number of nodes in the modified graph \", C.number_of_nodes())\n",
    "    \n",
    "    while len(fvs)!=0:\n",
    "        vert = fvs.pop() # pick a random element from the FVS\n",
    "        C.add_node(vert)\n",
    "        if vert not in H.successors(vert): # if not a self loop\n",
    "            parents = set(H.predecessors(vert)) - min_fvs\n",
    "            sons = list(set(H.successors(vert)) - min_fvs) \n",
    "            C.add_edges_from([(node,vert) for node in parents])\n",
    "            \n",
    "            counter = 0 \n",
    "            cyc = False\n",
    "            while counter < len(sons) and not cyc:\n",
    "                C.add_edge(vert, sons[counter])\n",
    "                if nx.has_path(C, sons[counter], vert): \n",
    "                    C.remove_node(vert)\n",
    "                    cyc = True\n",
    "                counter += 1\n",
    "            if not cyc or not any(sons) or not any(parents) :\n",
    "                min_fvs.remove(vert)\n",
    "        else: # is a self loop \n",
    "            C.remove_node(vert)\n",
    "    return min_fvs\n",
    "\n",
    "min_feed_vset = mfvs(G,G_C,feed_vset)\n",
    "print(\"Length of the MFVS is \", len(min_feed_vset))\n",
    "print(\"After removing MFVS, is still a DAG? \", nx.is_directed_acyclic_graph(G)) \n"
   ]
  },
  {
   "cell_type": "markdown",
   "id": "loved-moscow",
   "metadata": {},
   "source": [
    "## Algorithm ll: Find **all** the Minimal Feedback Vertex Sets \n",
    "### Quasi-random graph "
   ]
  },
  {
   "cell_type": "code",
   "execution_count": 5,
   "id": "robust-bruce",
   "metadata": {
    "run_control": {
     "marked": true
    }
   },
   "outputs": [
    {
     "name": "stdout",
     "output_type": "stream",
     "text": [
      "Number of nodes in the graph  114\n",
      "Number of ssc  68\n"
     ]
    }
   ],
   "source": [
    "random.seed(190397)\n",
    "\n",
    "def dfs(C):\n",
    "    nlist = []  \n",
    "    nx.set_node_attributes(C,\"white\",\"visit\") # set all the nodes as \"univisited\"\n",
    "    for i in range(5): # start some dfs visit from different point \n",
    "        sbset = dfsvisit(C,random.choice(list(C.nodes)))\n",
    "        nlist.extend(sbset)    \n",
    "    return nlist\n",
    "        \n",
    "def subgraph(C):\n",
    "    nodelist = dfs(C)\n",
    "    par_sub = C.subgraph(nodelist).copy()\n",
    "    # with subgraph nodes and edges are shared with the original graph \n",
    "    for node in nodelist: # ..add some leaf nodes\n",
    "        sons = set(C.successors(node)) - set(nodelist)\n",
    "        if any(sons):\n",
    "            child = sons.pop()\n",
    "            par_sub.add_edge(node, child)\n",
    "        else:\n",
    "            pass\n",
    "    return par_sub\n",
    "          \n",
    "def dfsvisit(C,curr,subset = set(),c=1):\n",
    "\n",
    "    if c == 15: # base case\n",
    "        return subset\n",
    "    \n",
    "    C.nodes[curr][\"visit\"] = \"grey\"\n",
    "    subset.add(curr)\n",
    "    for node in set(C.successors(curr)):\n",
    "        if C.nodes[node][\"visit\"] == \"white\":\n",
    "            C.nodes[node]['pred'] = curr\n",
    "            return dfsvisit(C,node,subset,c=c+1)    \n",
    "    C.nodes[curr][\"visit\"] = \"black\"\n",
    "    return dfsvisit(C,C.nodes[curr]['pred'],subset,c)\n",
    "\n",
    "# Here when a node has no white neighbours, we run a DFS starting from the predecessor of the node.\n",
    "\n",
    "    \n",
    "\n",
    "\n",
    "sub = subgraph(G_C)\n",
    "sscs= list(nx.strongly_connected_components(sub))\n",
    "print(\"Number of nodes in the graph \",sub.number_of_nodes())\n",
    "print(\"Number of ssc \" ,len(sscs))\n"
   ]
  },
  {
   "cell_type": "markdown",
   "id": "purple-place",
   "metadata": {},
   "source": [
    "### Bruteforce algorithm on SCCs"
   ]
  },
  {
   "cell_type": "code",
   "execution_count": 6,
   "id": "unexpected-tulsa",
   "metadata": {
    "run_control": {
     "marked": true
    }
   },
   "outputs": [
    {
     "name": "stdout",
     "output_type": "stream",
     "text": [
      "Runtime of the program is 0.9333624839782715\n"
     ]
    }
   ],
   "source": [
    "start = time.time()\n",
    "def all_mfvs(C):\n",
    "    a_mfvs = {}\n",
    "    count = 0\n",
    "    scc = nx.strongly_connected_components(C) # it's a lazy generator\n",
    "    for s in scc:   # for each scc\n",
    "        count +=1\n",
    "        record = []\n",
    "        all_comb = gen_comb(s) # it's a set of tuples\n",
    "        for comb in all_comb:\n",
    "            comb = set(comb) # convert the tuple into a set\n",
    "            scc_graph = C.subgraph(s).copy() # each time generate the ssc\n",
    "            if is_mfvs(scc_graph,comb.copy()):\n",
    "                record.append(comb)\n",
    "        a_mfvs[count] = record\n",
    "    clean = filterfalse(lambda x: x==[] ,a_mfvs.values())\n",
    "    r = product(*map(lambda x: (x[i] for i in range(len(x))),clean))\n",
    "    return (set().union(*i) for i in r)\n",
    "\n",
    "    \"\"\"\n",
    "    DESCRIPTION: \n",
    "    With filterfalse function we eliminate void lists in the dictionary; it returns a generator\n",
    "    With 'map' we apply the lambda expression to the iterable which in this case is a list of the \n",
    "    dictionary values.\n",
    "    Lambda expression take an iterable in input and returns a generator in which each value is a mfvs\n",
    "    for the corrisponding SCC\n",
    "    Product function from itertools module require an iterable in Input, where * means that \n",
    "    the number of items passed to the function is a priori undefined; the function returns\n",
    "    an iterator object (here \"r\"). The return value of all_mfvs it's a lazy generator, whose\n",
    "    elemnts are MFVS\n",
    "    \"\"\"   \n",
    "    \n",
    "def gen_comb(scclist):\n",
    "    comb = set()\n",
    "    for l in range(1, len(scclist)+1):\n",
    "        comb.update(set(combinations(scclist, l)))\n",
    "    return comb\n",
    "\n",
    "def is_mfvs(C,fvs):\n",
    "    H = C.copy()  # it will be our ssc \n",
    "    fvs_copy = fvs.copy() # create a copy of the FVS\n",
    "    C.remove_nodes_from(fvs) \n",
    "    if not nx.is_directed_acyclic_graph(C):\n",
    "        return False\n",
    "    while len(fvs)!=0:\n",
    "        vert = fvs.pop() # pick one element from the FVS\n",
    "        C.add_node(vert)\n",
    "        if vert not in H.successors(vert): # is not a self loop\n",
    "            parents = set(H.predecessors(vert)) - fvs_copy\n",
    "            sons = list(set(H.successors(vert)) - fvs_copy)\n",
    "            C.add_edges_from([(node,vert) for node in parents])\n",
    "            counter = 0 \n",
    "            cyc = False\n",
    "            while counter < len(sons) and not cyc:\n",
    "                C.add_edge(vert, sons[counter])\n",
    "                if nx.has_path(C, sons[counter], vert): \n",
    "                    C.remove_node(vert)\n",
    "                    cyc = True\n",
    "                counter += 1\n",
    "            if not cyc or not any(sons) or not any(parents) :\n",
    "                return False\n",
    "        else:\n",
    "            C.remove_node(vert) # is a self loop so induce a loop \n",
    "    return True \n",
    "\n",
    "all_solutions = all_mfvs(sub)\n",
    "end = time.time()\n",
    "print(f\"Runtime of the program is {end - start}\")"
   ]
  },
  {
   "cell_type": "markdown",
   "id": "warming-space",
   "metadata": {},
   "source": [
    "### Graph Visualization"
   ]
  },
  {
   "cell_type": "code",
   "execution_count": 21,
   "id": "answering-documentary",
   "metadata": {
    "run_control": {
     "marked": false
    }
   },
   "outputs": [
    {
     "data": {
      "image/png": "[encoded data removed]",
      "text/plain": [
       "<Figure size 936x532.8 with 1 Axes>"
      ]
     },
     "metadata": {},
     "output_type": "display_data"
    }
   ],
   "source": [
    "%matplotlib inline\n",
    "fig = plt.figure(figsize= (13.0,7.4))\n",
    "plt.title(\"Subgraph of G\")\n",
    "d = dict(sub.degree)\n",
    "nx.draw_networkx(sub,pos=nx.kamada_kawai_layout(sub), node_size = [v * 35 for v in d.values()], with_labels= False,node_color = \"blue\", \n",
    "                 alpha =[v * 0.05 for v in d.values() if v > 3], edge_color = \"grey\", width = 1.25)\n",
    "fig.savefig('matplotgraph.png')"
   ]
  },
  {
   "cell_type": "markdown",
   "id": "contained-chassis",
   "metadata": {},
   "source": [
    "## Algorithm III: Find a **minimum** solution"
   ]
  },
  {
   "cell_type": "code",
   "execution_count": 22,
   "id": "european-extra",
   "metadata": {
    "run_control": {
     "marked": true
    },
    "scrolled": true
   },
   "outputs": [
    {
     "name": "stdout",
     "output_type": "stream",
     "text": [
      "Total number of solutions  1244160\n",
      "Size of minimum solution  32\n",
      "Minimum solution  {'A054743', 'A325238', 'A002981', 'A103317', 'A116532', 'A210761', 'A319616', 'A097792', 'A276086', 'A127102', 'A128396', 'A230955', 'A210758', 'A127100', 'A242153', 'A210760', 'A210759', 'A000142', 'A230953', 'A000410', 'A128397', 'A127104', 'A116539', 'A000612', 'A186986', 'A328119', 'A127106', 'A127101', 'A242027', 'A186974', 'A210757', 'A051674'}\n"
     ]
    }
   ],
   "source": [
    "\n",
    "def minimum_fvs(C,all_sol):\n",
    "    min_len = float(\"inf\")\n",
    "    minimum = None \n",
    "    tot = 0\n",
    "    for solution in all_sol:\n",
    "        tot +=1\n",
    "        if len(solution) < min_len:\n",
    "            min_len  = len(solution)\n",
    "            minimum = solution\n",
    "    print(\"Total number of solutions \", tot)\n",
    "    return minimum    \n",
    "  \n",
    "\n",
    "min_solution = minimum_fvs(sub, all_solutions)\n",
    "print(\"Size of minimum solution \", len(min_solution))\n",
    "print(\"Minimum solution \", min_solution)    "
   ]
  }
 ],
 "metadata": {
  "kernelspec": {
   "display_name": "Python 3",
   "language": "python",
   "name": "python3"
  },
  "language_info": {
   "codemirror_mode": {
    "name": "ipython",
    "version": 3
   },
   "file_extension": ".py",
   "mimetype": "text/x-python",
   "name": "python",
   "nbconvert_exporter": "python",
   "pygments_lexer": "ipython3",
   "version": "3.8.0"
  },
  "toc": {
   "base_numbering": 1,
   "nav_menu": {},
   "number_sections": true,
   "sideBar": true,
   "skip_h1_title": false,
   "title_cell": "Table of Contents",
   "title_sidebar": "Contents",
   "toc_cell": false,
   "toc_position": {},
   "toc_section_display": true,
   "toc_window_display": false
  },
  "varInspector": {
   "cols": {
    "lenName": 16,
    "lenType": 16,
    "lenVar": 40
   },
   "kernels_config": {
    "python": {
     "delete_cmd_postfix": "",
     "delete_cmd_prefix": "del ",
     "library": "var_list.py",
     "varRefreshCmd": "print(var_dic_list())"
    },
    "r": {
     "delete_cmd_postfix": ") ",
     "delete_cmd_prefix": "rm(",
     "library": "var_list.r",
     "varRefreshCmd": "cat(var_dic_list()) "
    }
   },
   "position": {
    "height": "173px",
    "left": "804px",
    "right": "20px",
    "top": "140px",
    "width": "327px"
   },
   "types_to_exclude": [
    "module",
    "function",
    "builtin_function_or_method",
    "instance",
    "_Feature"
   ],
   "window_display": false
  }
 },
 "nbformat": 4,
 "nbformat_minor": 5
}
